{
 "cells": [
  {
   "cell_type": "code",
   "execution_count": 1,
   "metadata": {
    "collapsed": true
   },
   "outputs": [],
   "source": [
    "import pandas as pd\n",
    "import collections\n",
    "from scipy import stats"
   ]
  },
  {
   "cell_type": "code",
   "execution_count": 2,
   "metadata": {
    "collapsed": true
   },
   "outputs": [],
   "source": [
    "df = pd.read_csv(\"../data/Dataframe_full.tsv\", sep=\"\\t\", index_col=0)\n",
    "df = df[pd.notnull(df[\"St1_trans\"])]"
   ]
  },
  {
   "cell_type": "code",
   "execution_count": 3,
   "metadata": {
    "collapsed": false
   },
   "outputs": [],
   "source": [
    "fitness = collections.OrderedDict([\n",
    "    ('St1', 2.2),\n",
    "    ('St2', 7.5),\n",
    "    ('St3', 4.2),\n",
    "    ('St4', 6.5),\n",
    "    ('St5', 0.3)\n",
    "])"
   ]
  },
  {
   "cell_type": "code",
   "execution_count": 4,
   "metadata": {
    "collapsed": false
   },
   "outputs": [],
   "source": [
    "X = df[[strain + \"_trans\" for strain in fitness]]\n",
    "X.index = df[\"NCBI_GENE_ID\"]\n",
    "X = X[pd.notnull(X).all(1)]\n",
    "X = X[~(X>10000).any(1)]"
   ]
  },
  {
   "cell_type": "code",
   "execution_count": 5,
   "metadata": {
    "collapsed": false
   },
   "outputs": [],
   "source": [
    "def regress(row):\n",
    "    res = stats.linregress(list(row), list(fitness.values()))\n",
    "    return (res.slope, res.stderr)\n",
    "\n",
    "coefs = X.apply(regress, axis=1)"
   ]
  },
  {
   "cell_type": "code",
   "execution_count": 6,
   "metadata": {
    "collapsed": false
   },
   "outputs": [],
   "source": [
    "result_df = pd.DataFrame(index=X.index)\n",
    "result_df[\"mean\"] = coefs.map(lambda x: x[0])\n",
    "result_df[\"lower\"] = coefs.map(lambda x: x[0] - x[1])\n",
    "result_df[\"upper\"] = coefs.map(lambda x: x[0] + x[1])\n",
    "result_df[\"stderr\"] = coefs.map(lambda x: x[1])"
   ]
  },
  {
   "cell_type": "code",
   "execution_count": 7,
   "metadata": {
    "collapsed": false
   },
   "outputs": [],
   "source": [
    "result_df.to_csv(\"../data/gene_transciptomics_coefficients.tsv\", sep=\"\\t\")"
   ]
  },
  {
   "cell_type": "code",
   "execution_count": null,
   "metadata": {
    "collapsed": true
   },
   "outputs": [],
   "source": []
  }
 ],
 "metadata": {
  "kernelspec": {
   "display_name": "Python [cfb]",
   "language": "python",
   "name": "Python [cfb]"
  },
  "language_info": {
   "codemirror_mode": {
    "name": "ipython",
    "version": 3
   },
   "file_extension": ".py",
   "mimetype": "text/x-python",
   "name": "python",
   "nbconvert_exporter": "python",
   "pygments_lexer": "ipython3",
   "version": "3.4.5"
  }
 },
 "nbformat": 4,
 "nbformat_minor": 0
}
